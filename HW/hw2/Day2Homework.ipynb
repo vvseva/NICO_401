{
 "cells": [
  {
   "cell_type": "markdown",
   "metadata": {
    "pycharm": {
     "name": "#%% md\n"
    }
   },
   "source": [
    "# Day 2 Homework\n",
    "\n",
    "Today we've covered file systems, file input/output, and how to make functions. \n",
    "\n",
    "We will practice some basic file input and outputs and how to write functions in this homework. \n",
    "\n",
    "\n",
    "※ Don't forget to close() the file after you are done with it"
   ]
  },
  {
   "cell_type": "markdown",
   "metadata": {
    "pycharm": {
     "name": "#%% md\n"
    }
   },
   "source": [
    "# Question 1. File Input\n",
    "Let's practice what we have learned for reading files. \n",
    "\n",
    "This function should count the total number of lines in a file, including empty lines. \n",
    "\n",
    "It can be any file in text format (.txt)\n",
    "(You can test with the `Agatha_Bailey_789.txt` and `Agatha_Brooks_78.txt` files in the `rosters` folder).\n",
    "\n",
    "Note: Remember to specifiy the full path needed"
   ]
  },
  {
   "cell_type": "code",
   "execution_count": 1,
   "metadata": {
    "collapsed": true,
    "pycharm": {
     "name": "#%%\n"
    }
   },
   "outputs": [],
   "source": [
    "# Template\n",
    "def count_lines(file_name):\n",
    "    \"\"\"\n",
    "    input:\n",
    "        file_name - str, path to the file you want to read\n",
    "    output:\n",
    "        number_of_lines - int, number of lines in the file\n",
    "    \"\"\"\n",
    "    #Your code - replace current\n",
    "    # Opening the file\n",
    "    with open(file_name, 'r') as f:\n",
    "        # Reading the file\n",
    "        lines = f.readlines()\n",
    "        # Counting the lines\n",
    "        number_of_lines = len(lines)\n",
    "        # Returning the line count\n",
    "    \n",
    "    return number_of_lines"
   ]
  },
  {
   "cell_type": "code",
   "execution_count": 5,
   "metadata": {
    "pycharm": {
     "name": "#%%\n"
    }
   },
   "outputs": [
    {
     "data": {
      "text/plain": [
       "13"
      ]
     },
     "execution_count": 5,
     "metadata": {},
     "output_type": "execute_result"
    }
   ],
   "source": [
    "# Template\n",
    "#Use this cell to test your function\n",
    "#ex ) \n",
    "count_lines(\"rosters/Agatha_Bailey_798.txt\")"
   ]
  },
  {
   "cell_type": "code",
   "execution_count": 10,
   "metadata": {
    "pycharm": {
     "name": "#%%\n"
    }
   },
   "outputs": [
    {
     "data": {
      "text/plain": [
       "13"
      ]
     },
     "execution_count": 10,
     "metadata": {},
     "output_type": "execute_result"
    }
   ],
   "source": [
    "# Template\n",
    "#Use this cell to test your function\n",
    "#ex ) \n",
    "count_lines(\"rosters/Agatha_Brooks_78.txt\")"
   ]
  },
  {
   "cell_type": "markdown",
   "metadata": {
    "pycharm": {
     "name": "#%% md\n"
    }
   },
   "source": [
    "# Question 2. File Input\n",
    "Now that we know how to read files, let's extract the specific information you are interested in. \n",
    "\n",
    "You want to send an e-mail to a person in `rosters/` folder. \n",
    "\n",
    "But, to do so you need to know his/her e-mail. \n",
    "\n",
    "Read the file and get the persons e-mail address (ex) betty.coleman@northwestern.edu from the `Agatha` files."
   ]
  },
  {
   "cell_type": "code",
   "execution_count": 13,
   "metadata": {
    "collapsed": true,
    "pycharm": {
     "name": "#%%\n"
    }
   },
   "outputs": [],
   "source": [
    "# Template\n",
    "def get_email(file_name):\n",
    "    \"\"\"\n",
    "    input:\n",
    "        file_name - str, path to the file you want to read\n",
    "    output:\n",
    "        email - str, email address of the person in the file\n",
    "    \"\"\"\n",
    "    #Your code - replace starting initialization\n",
    "    with open(file_name, 'r') as f:\n",
    "        for line in f:\n",
    "            if line.startswith('Email'):\n",
    "                email = line.split(':')[1].strip()\n",
    "    \n",
    "    return email"
   ]
  },
  {
   "cell_type": "code",
   "execution_count": 14,
   "metadata": {
    "pycharm": {
     "name": "#%%\n"
    }
   },
   "outputs": [
    {
     "data": {
      "text/plain": [
       "'agatha.bailey@northwestern.edu'"
      ]
     },
     "execution_count": 14,
     "metadata": {},
     "output_type": "execute_result"
    }
   ],
   "source": [
    "# Template\n",
    "#Use this cell to test your function\n",
    "get_email(\"rosters/Agatha_Bailey_798.txt\")"
   ]
  },
  {
   "cell_type": "markdown",
   "metadata": {
    "pycharm": {
     "name": "#%% md\n"
    }
   },
   "source": [
    "# Question 3. File Input\n",
    "You want to compare birth years of two $\\textbf{different}$ people in 'rosters/' folder and know whether they were born in the same year. \n",
    "\n",
    "\n",
    "Get birth years from two files and compare them."
   ]
  },
  {
   "cell_type": "code",
   "execution_count": 16,
   "metadata": {
    "collapsed": true,
    "pycharm": {
     "name": "#%%\n"
    }
   },
   "outputs": [],
   "source": [
    "# Template\n",
    "def compare_birth_year(file_name1, file_name2):\n",
    "    \"\"\"\n",
    "    compare birth years of two people\n",
    "    input:\n",
    "        file_name1 - str, path to the file you want to read\n",
    "        file_name2 - str, path to the file you will compare to first file\n",
    "    output:\n",
    "        same_year - bool, True if two people are born in the same year, False if they are not\n",
    "    \"\"\"\n",
    "    #Your code\n",
    "    with open(file_name1, 'r') as f:\n",
    "        for line in f:\n",
    "            if line.startswith('Date of Birth:'):\n",
    "                dob1 = line.split(':')[1].strip()\n",
    "                \n",
    "    with open(file_name2, 'r') as f:\n",
    "        for line in f:\n",
    "            if line.startswith('Date of Birth:'):\n",
    "                dob2 = line.split(':')[1].strip()\n",
    "    \n",
    "    if dob1[-2:] == dob2[-2:]:\n",
    "        same_year = True\n",
    "    else:\n",
    "        same_year = False\n",
    "    \n",
    "    return same_year"
   ]
  },
  {
   "cell_type": "code",
   "execution_count": 19,
   "metadata": {
    "pycharm": {
     "name": "#%%\n"
    }
   },
   "outputs": [
    {
     "data": {
      "text/plain": [
       "True"
      ]
     },
     "execution_count": 19,
     "metadata": {},
     "output_type": "execute_result"
    }
   ],
   "source": [
    "# Template\n",
    "#Use this cell to test your function\n",
    "compare_birth_year(\"rosters/Agatha_Bailey_798.txt\", \"rosters/Agatha_Bailey_798.txt\")"
   ]
  },
  {
   "cell_type": "code",
   "execution_count": 18,
   "metadata": {
    "pycharm": {
     "name": "#%%\n"
    }
   },
   "outputs": [
    {
     "data": {
      "text/plain": [
       "False"
      ]
     },
     "execution_count": 18,
     "metadata": {},
     "output_type": "execute_result"
    }
   ],
   "source": [
    "# Template\n",
    "#Use this cell to test your function\n",
    "compare_birth_year(\"rosters/Agatha_Bailey_798.txt\", \"rosters/Agatha_Brooks_78.txt\")"
   ]
  },
  {
   "cell_type": "markdown",
   "metadata": {
    "pycharm": {
     "name": "#%% md\n"
    }
   },
   "source": [
    "# Question 4. File Output\n",
    "Enough with reading files. Let's see if you can write a file. \n",
    "Write your demographic information in any folder (but it has to be a folder you can find later)\n",
    "\n",
    "Write the given demographics in order that is given. \n",
    "You will get full scores only if it is in order. \n",
    "\n",
    "Save the file name '/location/to/the/folder/your_netid.txt"
   ]
  },
  {
   "cell_type": "code",
   "execution_count": 1,
   "metadata": {
    "collapsed": true,
    "pycharm": {
     "name": "#%%\n"
    }
   },
   "outputs": [],
   "source": [
    "# Template\n",
    "def write_demographics(netid):\n",
    "    \"\"\"\n",
    "    input:\n",
    "        netid - str, your netid, going to be your file name\n",
    "    output:\n",
    "        write your demographic information into a file. \n",
    "        file name: your_netid.txt (ex. abc123.txt)\n",
    "        file should be formatted like following\n",
    "        Name:\n",
    "        Date of Birth:\n",
    "        Email Address: \n",
    "        Department: \n",
    "        Height: \n",
    "        Weight: \n",
    "        Favorite Color: \n",
    "        Favorite Animal: \n",
    "        Zodiac Sign: \n",
    "        (put a space after each colon)\n",
    "    Return the filename!\n",
    "    \"\"\"\n",
    "\n",
    "    with open(netid+'.txt', 'a') as f:\n",
    "        f.write(\"\"\"Name: Seva\n",
    "Date of Birth: 08/28/98 \n",
    "Email Address: vvseva@northwestern.edu\n",
    "Department: MTS\n",
    "Height: 180\n",
    "Weight: 60\n",
    "Favorite Color: cyan4\n",
    "Favorite Animal: Manris shrimp\n",
    "Zodiac Sign: Ophiuchus\n",
    "\"\"\")\n",
    "    \n",
    "    #Your code\n",
    "    file_name = netid+'.txt'\n",
    "\n",
    "    return file_name"
   ]
  },
  {
   "cell_type": "code",
   "execution_count": 2,
   "metadata": {
    "pycharm": {
     "name": "#%%\n"
    }
   },
   "outputs": [
    {
     "data": {
      "text/plain": [
       "'vso5848.txt'"
      ]
     },
     "execution_count": 2,
     "metadata": {},
     "output_type": "execute_result"
    }
   ],
   "source": [
    "# Template\n",
    "#Use this cell to test your function\n",
    "write_demographics(\"vso5848\")"
   ]
  },
  {
   "cell_type": "markdown",
   "metadata": {
    "pycharm": {
     "name": "#%% md\n"
    }
   },
   "source": [
    "# Question 5. File Output\n",
    "Oops, you forgot to write your favorite movie in the file you just created. \n",
    "\n",
    "Add your favorite movie to the last line of your demographic information file. \n",
    "\n",
    "Hint: Use the file_name returned from question 4."
   ]
  },
  {
   "cell_type": "code",
   "execution_count": 3,
   "metadata": {
    "collapsed": true,
    "pycharm": {
     "name": "#%%\n"
    }
   },
   "outputs": [],
   "source": [
    "# Template\n",
    "def add_favorite_movie(file_name, movie):\n",
    "    '''\n",
    "    Add Favorite movie to the last line of the existing file\n",
    "    input:\n",
    "        file_name - str, name of the path for the file to which you will add the line\n",
    "        movie - str, name of the movie\n",
    "    output:\n",
    "        add line that says \n",
    "        Favorite Movie: movie (your input)\n",
    "        to the file you chose\n",
    "    Return the filename!\n",
    "    '''\n",
    "    movie_line = f'Favorite Movie: movie {movie}'\n",
    "    with open(file_name, 'a') as f:\n",
    "        f.write(movie_line)\n",
    "    return file_name"
   ]
  },
  {
   "cell_type": "code",
   "execution_count": 4,
   "metadata": {
    "collapsed": true,
    "pycharm": {
     "name": "#%%\n"
    }
   },
   "outputs": [],
   "source": [
    "# Template\n",
    "#Use this cell to test your function\n",
    "add_favorite_movie('vso5848.txt', \"Mr. Nobody\")"
   ]
  },
  {
   "cell_type": "markdown",
   "metadata": {
    "pycharm": {
     "name": "#%% md\n"
    }
   },
   "source": [
    "# Question 6. Many many files\n",
    "Python has a function called glob that grabs files for you. As long as you tell it exactly what kind of files you want it to get! It will give you list of file names as a string.\n",
    "\n",
    "(You will learn more about it tomorrow when you learn about Python standard library)\n",
    "\n",
    "Here, read all the `txt` files in the directory. "
   ]
  },
  {
   "cell_type": "code",
   "execution_count": 1,
   "metadata": {
    "collapsed": true,
    "pycharm": {
     "name": "#%%\n"
    }
   },
   "outputs": [],
   "source": [
    "# Template\n",
    "def count_department():\n",
    "    \"\"\" \n",
    "    input:\n",
    "        -\n",
    "    output:\n",
    "        number_of_dept- list (key: majors, values: number of people who have the major)\n",
    "                        ex：[['Engineering', 10], ['Nursing', 17], ... ]\n",
    "    \n",
    "    \"\"\"    \n",
    "    from glob import glob\n",
    "    filenames = glob('rosters/*txt') #list of file names in the folder\n",
    "    number_of_dept = {}\n",
    "    for file_name in filenames:\n",
    "        with open(file_name, 'r') as f:\n",
    "            for line in f:\n",
    "                if line.startswith('Department'):\n",
    "                    department = line.split(':')[1].strip()\n",
    "                    number_of_dept[department] = number_of_dept.get(department, 0) + 1\n",
    "    \n",
    "    number_of_dept_list = []\n",
    "\n",
    "    for item in number_of_dept.items():\n",
    "        number_of_dept_list.append(list(item))\n",
    "    number_of_dept = sorted(number_of_dept_list)\n",
    "    \n",
    "    return number_of_dept"
   ]
  },
  {
   "cell_type": "code",
   "execution_count": 2,
   "metadata": {
    "pycharm": {
     "name": "#%%\n"
    }
   },
   "outputs": [
    {
     "data": {
      "text/plain": "[['Engineering', 1], ['Music', 1]]"
     },
     "execution_count": 2,
     "metadata": {},
     "output_type": "execute_result"
    }
   ],
   "source": [
    "# Template\n",
    "#Use this cell to test your function\n",
    "count_department()"
   ]
  }
 ],
 "metadata": {
  "anaconda-cloud": {},
  "kernelspec": {
   "display_name": "Python 3 [3.6]",
   "language": "python",
   "name": "python3"
  },
  "language_info": {
   "codemirror_mode": {
    "name": "ipython",
    "version": 3
   },
   "file_extension": ".py",
   "mimetype": "text/x-python",
   "name": "python",
   "nbconvert_exporter": "python",
   "pygments_lexer": "ipython3",
   "version": "3.6.4"
  }
 },
 "nbformat": 4,
 "nbformat_minor": 1
}