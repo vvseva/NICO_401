{
 "cells": [
  {
   "cell_type": "markdown",
   "metadata": {
    "pycharm": {
     "name": "#%% md\n"
    }
   },
   "source": [
    "# Day 4 Homework: Dictionaries"
   ]
  },
  {
   "cell_type": "markdown",
   "metadata": {
    "pycharm": {
     "name": "#%% md\n"
    }
   },
   "source": [
    "# Question 1: Parse image path\n",
    "\n",
    "Write a function to parse image path (a string), and return the year (int), title (str), and number (int) that are contained in the name. You do not need to do any processing on the painting title, just reproduce it faithfully as it is in the filename. For reference, all filenames are structured as:\n",
    "\n",
    "`year-title-number.extension`\n",
    "\n",
    "    def parse_image_path(image_filename):\n",
    "        '''\n",
    "        input:\n",
    "            image_filename - str, name of image file\n",
    "        output:\n",
    "            year - int, year of painting\n",
    "            title - str, name of painting\n",
    "            num - int, final number on filename\n"
   ]
  },
  {
   "cell_type": "code",
   "execution_count": 43,
   "metadata": {
    "pycharm": {
     "name": "#%%\n"
    }
   },
   "outputs": [
    {
     "data": {
      "text/plain": [
       "{'year': 1895, 'title': 'First_Communion.', 'num': 11}"
      ]
     },
     "execution_count": 43,
     "metadata": {},
     "output_type": "execute_result"
    }
   ],
   "source": [
    "# Template\n",
    "#Your code here\n",
    "def parse_image_path(image_filename):\n",
    "    '''\n",
    "    input:\n",
    "        image_filename - str, name of image file\n",
    "    output:\n",
    "        year - int, year of painting\n",
    "        title - str, name of painting\n",
    "        num - int, final number on filename\n",
    "    '''\n",
    "    parts = image_filename.split('/')[-1].split('-')\n",
    "    output =  {}\n",
    "    year = int(parts[0])\n",
    "    title = parts[1]\n",
    "    num = int(parts[-1].split('.')[0])\n",
    "    \n",
    "#     return year, title, num\n",
    "    output['year'] = year\n",
    "    output['title'] = title\n",
    "    output['num'] = num\n",
    "    \n",
    "    return output\n",
    "    \n",
    "\n",
    "parse_image_path('2010-title-1.extension')\n",
    "\n",
    "parse_image_path(\"1896-Portrait_of_the_Artist's_Mother.-35.jpg\")\n",
    "\n",
    "parse_image_path(\"images/1895-First_Communion.-11.jpg\")"
   ]
  },
  {
   "cell_type": "markdown",
   "metadata": {
    "pycharm": {
     "name": "#%% md\n"
    }
   },
   "source": [
    "# Question 2: Create a dictionary containing each path by year\n",
    "\n",
    "Write a function that looks in a directory finds the names of all the jpg images inside it, parses the name of the images, and counts how many paintings were painted each year. You should use your function from Question 1 to process the filenames\n",
    "\n",
    "Store the counts inside a dictionary.\n",
    "\n",
    "    def image_year(directory):\n",
    "        '''\n",
    "        input:\n",
    "            directory - directory with images in it\n",
    "        output:\n",
    "            year_dict - dict, dictionary of years and the number of paintings made in that year. \n",
    "        '''"
   ]
  },
  {
   "cell_type": "code",
   "execution_count": 45,
   "metadata": {
    "pycharm": {
     "name": "#%%\n"
    }
   },
   "outputs": [
    {
     "data": {
      "text/plain": [
       "{1912: 6,\n",
       " 1920: 2,\n",
       " 1908: 13,\n",
       " 1904: 2,\n",
       " 1909: 9,\n",
       " 1907: 7,\n",
       " 1921: 4,\n",
       " 1913: 4,\n",
       " 1906: 9,\n",
       " 1901: 11,\n",
       " 1903: 8,\n",
       " 1895: 2,\n",
       " 1918: 2,\n",
       " 1910: 3,\n",
       " 1902: 1,\n",
       " 1919: 3,\n",
       " 1905: 12,\n",
       " 1914: 2,\n",
       " 1922: 3,\n",
       " 1911: 1,\n",
       " 1896: 2,\n",
       " 1900: 1,\n",
       " 1897: 2,\n",
       " 1899: 1,\n",
       " 1917: 1,\n",
       " 1915: 1}"
      ]
     },
     "execution_count": 45,
     "metadata": {},
     "output_type": "execute_result"
    }
   ],
   "source": [
    "# Template\n",
    "#Your code here\n",
    "def image_year(directory):\n",
    "    '''\n",
    "    input:\n",
    "        directory - directory with images in it\n",
    "    output:\n",
    "        year_dict - dict, dictionary of years and the number of paintings made in that year. \n",
    "    '''\n",
    "    from glob import glob\n",
    "    filenames = glob(f'{directory}/*jpg') #list of file names in the folder\n",
    "    year_dict = {}\n",
    "    for file_name in filenames:\n",
    "        year = parse_image_path(file_name)['year']\n",
    "        year_dict[year] = year_dict.get(year, 0) + 1\n",
    "    return(year_dict)\n",
    "\n",
    "image_year('images')        "
   ]
  },
  {
   "cell_type": "markdown",
   "metadata": {
    "pycharm": {
     "name": "#%% md\n"
    }
   },
   "source": [
    "# Question 3: Count the word occurences in Picasso titles\n",
    "\n",
    "Write a function that looks in a directory finds the names of all the jpg images inside it, parses the name of the images, and counts the number of occurences of each word. You should strip out occurrences of `(`, `)`, `'`, and `,` from the words before adding to the dictionary.\n",
    "\n",
    "Store the counts inside a dictionary.\n",
    "\n",
    "    def image_word_frequency(directory):\n",
    "        '''\n",
    "        input:\n",
    "            directory - str, directory that contains the image files\n",
    "        output:\n",
    "            word_dict - dict, {'word' : occurences, ...} - occurence of word in title\n",
    "        '''"
   ]
  },
  {
   "cell_type": "code",
   "execution_count": 50,
   "metadata": {
    "pycharm": {
     "name": "#%%\n"
    }
   },
   "outputs": [
    {
     "data": {
      "text/plain": [
       "{'The': 16,\n",
       " 'Restaurant': 1,\n",
       " 'Turkey': 1,\n",
       " 'with': 16,\n",
       " 'Truffles': 1,\n",
       " 'and': 14,\n",
       " 'Wine': 3,\n",
       " 'Portrait': 10,\n",
       " 'of': 20,\n",
       " 'Igor': 1,\n",
       " 'Stravinsky': 1,\n",
       " 'Flowers': 1,\n",
       " 'in': 9,\n",
       " 'a': 22,\n",
       " 'Grey': 1,\n",
       " 'Jug': 1,\n",
       " 'Woman': 12,\n",
       " 'Crow': 1,\n",
       " 'Young': 4,\n",
       " 'Self': 4,\n",
       " 'Reading': 1,\n",
       " 'Letter': 1,\n",
       " 'Violin': 3,\n",
       " 'Guitar': 3,\n",
       " 'Glassware': 1,\n",
       " 'Still': 7,\n",
       " 'Life': 3,\n",
       " 'Porro': 1,\n",
       " 'Composition': 3,\n",
       " 'Skull': 1,\n",
       " 'Dryad': 1,\n",
       " 'Nude': 5,\n",
       " 'Half': 1,\n",
       " 'La': 4,\n",
       " 'Toilette': 1,\n",
       " 'Three': 3,\n",
       " 'Musicians': 3,\n",
       " 'or': 2,\n",
       " 'Masks': 1,\n",
       " 'Fermière': 2,\n",
       " 'full': 1,\n",
       " 'Hairdressing': 1,\n",
       " 'Soler': 1,\n",
       " 'Youth': 1,\n",
       " 'Chignon': 1,\n",
       " 'First': 1,\n",
       " 'Communion': 1,\n",
       " 'Cigarette': 1,\n",
       " 'Friendship': 1,\n",
       " 'Green': 1,\n",
       " 'Bowl': 2,\n",
       " 'Black': 1,\n",
       " 'Bottle': 2,\n",
       " 'Bathers': 1,\n",
       " 'Kahnweiler': 1,\n",
       " 'I': 1,\n",
       " 'love': 1,\n",
       " 'Eva': 1,\n",
       " 'Gertrude': 1,\n",
       " 'Stein': 1,\n",
       " 'Visit': 1,\n",
       " 'Two': 4,\n",
       " 'Sisters': 1,\n",
       " 'Juan': 1,\n",
       " 'Lady': 1,\n",
       " 'Fan': 3,\n",
       " 'Catalan': 1,\n",
       " 'Sculptor': 1,\n",
       " 'Manolo': 1,\n",
       " 'Manuel': 1,\n",
       " 'Hugué': 1,\n",
       " 'Lascete': 1,\n",
       " 'Boy': 3,\n",
       " 'Leading': 1,\n",
       " 'Horse': 1,\n",
       " 'Fruit': 4,\n",
       " 'Vase': 1,\n",
       " 'Bunch': 1,\n",
       " 'Grapes': 1,\n",
       " 'Women': 2,\n",
       " 'Running': 1,\n",
       " 'on': 4,\n",
       " 'the': 6,\n",
       " 'Beach': 1,\n",
       " 'Clarinet': 1,\n",
       " 'Leaning': 1,\n",
       " 'Harlequin': 5,\n",
       " 'Le': 1,\n",
       " 'Gourmet': 1,\n",
       " 'Man': 2,\n",
       " 'Arms': 1,\n",
       " 'Crossed': 1,\n",
       " 'House': 1,\n",
       " 'Garden': 1,\n",
       " 'Absinthe': 2,\n",
       " 'Drinker': 2,\n",
       " 'Blue': 1,\n",
       " 'Hat': 1,\n",
       " 'Bread': 1,\n",
       " 'Dish': 1,\n",
       " 'Table': 2,\n",
       " 'Family': 1,\n",
       " 'Saltimbanques': 1,\n",
       " 'half': 1,\n",
       " 'Juggler': 1,\n",
       " 'Dance': 1,\n",
       " 'Veils': 1,\n",
       " 'Compotier': 1,\n",
       " 'Glass': 2,\n",
       " 'Tavern': 1,\n",
       " 'Ham': 1,\n",
       " 'Artists': 1,\n",
       " 'Mother': 3,\n",
       " 'Art': 1,\n",
       " 'Dealer': 1,\n",
       " 'Pedro': 1,\n",
       " 'Manach': 1,\n",
       " 'Child': 1,\n",
       " 'Barefoot': 1,\n",
       " 'Girl': 3,\n",
       " 'Head': 2,\n",
       " 'Sketch': 1,\n",
       " 'for': 1,\n",
       " 'Demoiselles': 2,\n",
       " 'dAvignon': 2,\n",
       " 'Playing': 1,\n",
       " 'Mandolin': 1,\n",
       " 'Acrobat': 2,\n",
       " 'Ball': 1,\n",
       " 'Factory': 1,\n",
       " 'Horta': 1,\n",
       " 'de': 1,\n",
       " 'Ebbo': 1,\n",
       " 'Sitting': 1,\n",
       " 'Red': 1,\n",
       " 'Couch': 1,\n",
       " 'Dog': 1,\n",
       " 'Death': 1,\n",
       " 'Casagemas': 1,\n",
       " 'A': 1,\n",
       " 'Spanish': 1,\n",
       " 'Couple': 1,\n",
       " 'front': 1,\n",
       " 'an': 1,\n",
       " 'Inn': 1,\n",
       " 'Sleeping': 1,\n",
       " 'Peasants': 2,\n",
       " 'Tumblers': 1,\n",
       " 'Son': 1,\n",
       " 'Ambroise': 1,\n",
       " 'Vollard': 1,\n",
       " 'Old': 2,\n",
       " 'Guitarist': 1,\n",
       " 'Breakfast': 1,\n",
       " 'Blind': 1,\n",
       " 'Beggar': 1,\n",
       " 'Science': 1,\n",
       " 'Charity': 1,\n",
       " 'Chemise': 1,\n",
       " 'Card': 1,\n",
       " 'LAbsinthe': 1,\n",
       " 'Musical': 1,\n",
       " 'Instruments': 1,\n",
       " 'Matador': 1,\n",
       " 'Luis': 1,\n",
       " 'Miguel': 1,\n",
       " 'Dominguin': 1,\n",
       " 'Pernod': 1,\n",
       " 'Café': 1,\n",
       " 'Pot': 1,\n",
       " 'Lola': 1,\n",
       " 'Picassos': 1,\n",
       " 'Sister': 1,\n",
       " 'Naked': 1,\n",
       " 'Figures': 1,\n",
       " 'Les': 1,\n",
       " 'Classical': 1,\n",
       " 'Brothers': 1,\n",
       " 'Fernarde': 1,\n",
       " 'Decanter': 1,\n",
       " 'Tureens': 1,\n",
       " 'Olga': 1,\n",
       " 'Armchair': 1,\n",
       " 'Vie': 1,\n",
       " 'Seated': 1,\n",
       " 'Tragedy': 1,\n",
       " 'Sliced': 1,\n",
       " 'Pear': 1,\n",
       " 'Youths': 1,\n",
       " 'Goat': 1,\n",
       " 'In': 1,\n",
       " 'Lapin': 1,\n",
       " 'Agile': 1}"
      ]
     },
     "execution_count": 50,
     "metadata": {},
     "output_type": "execute_result"
    }
   ],
   "source": [
    "# Template\n",
    "#Your code here\n",
    "# import re\n",
    "def image_word_frequency(directory):\n",
    "    '''\n",
    "    input:\n",
    "        directory - str, directory that contains the image files\n",
    "    output:\n",
    "        word_dict - dict, {'word' : occurences, ...} - occurence of word in title\n",
    "    '''\n",
    "    from glob import glob\n",
    "    filenames = glob(f'{directory}/*jpg') #list of file names in the folder\n",
    "    word_dict = {}\n",
    "    for file_name in filenames:\n",
    "        file_name = file_name.split('/')[1]\n",
    "        words = file_name.split('-')[1]\n",
    "        for word in words.split('_'):\n",
    "#             word = re.sub(r'[^\\w\\s]', '', word)\n",
    "            word = word.replace(\"'\", '')\n",
    "            word = word.replace(\"(\", '')\n",
    "            word = word.replace(\")\", '')\n",
    "            word = word.replace(\",\", '')\n",
    "            word = word.replace(\".\", '')\n",
    "            word_dict[word] = word_dict.get(word, 0) + 1\n",
    "    \n",
    "    del word_dict['']        \n",
    "    return(word_dict)\n",
    "image_word_frequency('images')     "
   ]
  },
  {
   "cell_type": "markdown",
   "metadata": {
    "pycharm": {
     "name": "#%% md\n"
    }
   },
   "source": [
    "# Question 4: Read JSON files\n",
    "\n",
    "There is a file called `divvy_network.json` that contains data about individual Divvy stations. What is the average capacity of bikes across all divvy stations?\n",
    "\n",
    "    def calc_average_station_capacity(filename):\n",
    "        '''\n",
    "        input:\n",
    "            filename - str, name of divvy station file data\n",
    "        output:\n",
    "            average_capacity - float, average capacity across all divvy stations\n",
    "        '''"
   ]
  },
  {
   "cell_type": "code",
   "execution_count": 58,
   "metadata": {
    "pycharm": {
     "name": "#%%\n"
    }
   },
   "outputs": [
    {
     "data": {
      "text/plain": [
       "16.806020066889634"
      ]
     },
     "execution_count": 58,
     "metadata": {},
     "output_type": "execute_result"
    }
   ],
   "source": [
    "# Template\n",
    "#Your code goes here\n",
    "import json\n",
    "\n",
    "def calc_average_station_capacity(filename):\n",
    "    '''\n",
    "    input:\n",
    "        filename - str, name of divvy station file data\n",
    "    output:\n",
    "        average_capacity - float, average capacity across all divvy stations\n",
    "    '''\n",
    "    with open(filename) as f:\n",
    "        data = f.read()\n",
    "    file = json.loads(data)\n",
    "    capacities = []\n",
    "    for station in file['nodes']:\n",
    "        capacities.append(station['capacity'])\n",
    "        \n",
    "    average_capacity = sum(capacities) / len(capacities)\n",
    "    return average_capacity\n",
    "calc_average_station_capacity(\"divvy_network.json\")"
   ]
  },
  {
   "cell_type": "markdown",
   "metadata": {
    "pycharm": {
     "name": "#%% md\n"
    }
   },
   "source": [
    "# Question 5: Write average and standard deviation station capacities to JSON file\n",
    "\n",
    "Calculate the average capacity across stations and the standard deviation in capacity. Store the attributes as a dictionary and write to a JSON file. Your answer JSON should look like (pretty printed here only for visual clarity):\n",
    "\n",
    "```\n",
    "{\n",
    " 'mean': NUMBER,\n",
    " 'std': NUMBER\n",
    "}\n",
    "```\n",
    "\n",
    "Return the filename after writing\n",
    "\n",
    "    def write_station_capacity_attributes(filename, save_filename):\n",
    "        '''\n",
    "        input:\n",
    "            filename: str, divvy file with data\n",
    "            save_filename: str, name of json file to save\n",
    "        return:\n",
    "            save_filename: str, name of json file that you saved data in\n",
    "        '''"
   ]
  },
  {
   "cell_type": "code",
   "execution_count": 59,
   "metadata": {
    "pycharm": {
     "name": "#%%\n"
    }
   },
   "outputs": [
    {
     "data": {
      "text/plain": [
       "'divvy_station_capacity_attributes.json'"
      ]
     },
     "execution_count": 59,
     "metadata": {},
     "output_type": "execute_result"
    }
   ],
   "source": [
    "# Template\n",
    "#Your code goes here\n",
    "def write_station_capacity_attributes(filename, save_filename):\n",
    "    '''\n",
    "    input:\n",
    "        filename: str, divvy file with data\n",
    "        save_filename: str, name of json file to save\n",
    "    return:\n",
    "        save_filename: str, name of json file that you saved data in\n",
    "    '''\n",
    "    return f'{save_filename}'\n",
    "\n",
    "write_station_capacity_attributes('divvy_network.json', 'divvy_station_capacity_attributes.json')"
   ]
  }
 ],
 "metadata": {
  "anaconda-cloud": {},
  "kernelspec": {
   "display_name": "Python 3 [3.6]",
   "language": "python",
   "name": "python3"
  },
  "language_info": {
   "codemirror_mode": {
    "name": "ipython",
    "version": 3
   },
   "file_extension": ".py",
   "mimetype": "text/x-python",
   "name": "python",
   "nbconvert_exporter": "python",
   "pygments_lexer": "ipython3",
   "version": "3.6.4"
  },
  "toc": {
   "base_numbering": 1,
   "nav_menu": {},
   "number_sections": true,
   "sideBar": true,
   "skip_h1_title": false,
   "title_cell": "Table of Contents",
   "title_sidebar": "Contents",
   "toc_cell": false,
   "toc_position": {},
   "toc_section_display": true,
   "toc_window_display": true
  }
 },
 "nbformat": 4,
 "nbformat_minor": 1
}