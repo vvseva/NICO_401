{
 "cells": [
  {
   "cell_type": "markdown",
   "metadata": {
    "pycharm": {
     "name": "#%% md\n"
    }
   },
   "source": [
    "# Day 4 Homework: Dictionaries"
   ]
  },
  {
   "cell_type": "markdown",
   "metadata": {
    "pycharm": {
     "name": "#%% md\n"
    }
   },
   "source": [
    "# Question 1: Parse image path\n",
    "\n",
    "Write a function to parse image path (a string), and return the year (int), title (str), and number (int) that are contained in the name. You do not need to do any processing on the painting title, just reproduce it faithfully as it is in the filename. For reference, all filenames are structured as:\n",
    "\n",
    "`year-title-number.extension`\n",
    "\n",
    "    def parse_image_path(image_filename):\n",
    "        '''\n",
    "        input:\n",
    "            image_filename - str, name of image file\n",
    "        output:\n",
    "            year - int, year of painting\n",
    "            title - str, name of painting\n",
    "            num - int, final number on filename\n"
   ]
  },
  {
   "cell_type": "code",
   "execution_count": 9,
   "metadata": {
    "pycharm": {
     "name": "#%%\n"
    }
   },
   "outputs": [
    {
     "data": {
      "text/plain": "(1895, 'First_Communion.', 11)"
     },
     "execution_count": 9,
     "metadata": {},
     "output_type": "execute_result"
    }
   ],
   "source": [
    "# Template\n",
    "#Your code here\n",
    "def parse_image_path(image_filename):\n",
    "    '''\n",
    "    input:\n",
    "        image_filename - str, name of image file\n",
    "    output:\n",
    "        year - int, year of painting\n",
    "        title - str, name of painting\n",
    "        num - int, final number on filename\n",
    "    '''\n",
    "    parts = image_filename.split('/')[-1].split('-')\n",
    "    output =  {}\n",
    "    year = int(parts[0])\n",
    "    title = '-'.join(parts[1:-1])\n",
    "    num = int(parts[-1].split('.')[0])\n",
    "    \n",
    "#     return year, title, num\n",
    "    output['year'] = year\n",
    "    output['title'] = title\n",
    "    output['num'] = num\n",
    "    \n",
    "    return year, title, num\n",
    "    \n",
    "\n",
    "parse_image_path('2010-title-1.extension')\n",
    "\n",
    "parse_image_path(\"1896-Portrait_of_the_Artist's_Mother.-35.jpg\")\n",
    "\n",
    "parse_image_path(\"images/1895-First_Communion.-11.jpg\")"
   ]
  },
  {
   "cell_type": "markdown",
   "metadata": {
    "pycharm": {
     "name": "#%% md\n"
    }
   },
   "source": [
    "# Question 2: Create a dictionary containing each path by year\n",
    "\n",
    "Write a function that looks in a directory finds the names of all the jpg images inside it, parses the name of the images, and counts how many paintings were painted each year. You should use your function from Question 1 to process the filenames\n",
    "\n",
    "Store the counts inside a dictionary.\n",
    "\n",
    "    def image_year(directory):\n",
    "        '''\n",
    "        input:\n",
    "            directory - directory with images in it\n",
    "        output:\n",
    "            year_dict - dict, dictionary of years and the number of paintings made in that year. \n",
    "        '''"
   ]
  },
  {
   "cell_type": "code",
   "execution_count": 10,
   "metadata": {
    "pycharm": {
     "name": "#%%\n"
    }
   },
   "outputs": [
    {
     "ename": "ValueError",
     "evalue": "invalid literal for int() with base 10: 'images\\\\1895'",
     "output_type": "error",
     "traceback": [
      "\u001B[1;31m---------------------------------------------------------------------------\u001B[0m",
      "\u001B[1;31mValueError\u001B[0m                                Traceback (most recent call last)",
      "Input \u001B[1;32mIn [10]\u001B[0m, in \u001B[0;36m<cell line: 18>\u001B[1;34m()\u001B[0m\n\u001B[0;32m     15\u001B[0m         year_dict[year] \u001B[38;5;241m=\u001B[39m year_dict\u001B[38;5;241m.\u001B[39mget(year, \u001B[38;5;241m0\u001B[39m) \u001B[38;5;241m+\u001B[39m \u001B[38;5;241m1\u001B[39m\n\u001B[0;32m     16\u001B[0m     \u001B[38;5;28;01mreturn\u001B[39;00m(year_dict)\n\u001B[1;32m---> 18\u001B[0m \u001B[43mimage_year\u001B[49m\u001B[43m(\u001B[49m\u001B[38;5;124;43m'\u001B[39;49m\u001B[38;5;124;43mimages\u001B[39;49m\u001B[38;5;124;43m'\u001B[39;49m\u001B[43m)\u001B[49m\n",
      "Input \u001B[1;32mIn [10]\u001B[0m, in \u001B[0;36mimage_year\u001B[1;34m(directory)\u001B[0m\n\u001B[0;32m     12\u001B[0m year_dict \u001B[38;5;241m=\u001B[39m {}\n\u001B[0;32m     13\u001B[0m \u001B[38;5;28;01mfor\u001B[39;00m file_name \u001B[38;5;129;01min\u001B[39;00m filenames:\n\u001B[1;32m---> 14\u001B[0m     year \u001B[38;5;241m=\u001B[39m \u001B[43mparse_image_path\u001B[49m\u001B[43m(\u001B[49m\u001B[43mfile_name\u001B[49m\u001B[43m)\u001B[49m[\u001B[38;5;241m0\u001B[39m]\n\u001B[0;32m     15\u001B[0m     year_dict[year] \u001B[38;5;241m=\u001B[39m year_dict\u001B[38;5;241m.\u001B[39mget(year, \u001B[38;5;241m0\u001B[39m) \u001B[38;5;241m+\u001B[39m \u001B[38;5;241m1\u001B[39m\n\u001B[0;32m     16\u001B[0m \u001B[38;5;28;01mreturn\u001B[39;00m(year_dict)\n",
      "Input \u001B[1;32mIn [9]\u001B[0m, in \u001B[0;36mparse_image_path\u001B[1;34m(image_filename)\u001B[0m\n\u001B[0;32m     12\u001B[0m parts \u001B[38;5;241m=\u001B[39m image_filename\u001B[38;5;241m.\u001B[39msplit(\u001B[38;5;124m'\u001B[39m\u001B[38;5;124m/\u001B[39m\u001B[38;5;124m'\u001B[39m)[\u001B[38;5;241m-\u001B[39m\u001B[38;5;241m1\u001B[39m]\u001B[38;5;241m.\u001B[39msplit(\u001B[38;5;124m'\u001B[39m\u001B[38;5;124m-\u001B[39m\u001B[38;5;124m'\u001B[39m)\n\u001B[0;32m     13\u001B[0m output \u001B[38;5;241m=\u001B[39m  {}\n\u001B[1;32m---> 14\u001B[0m year \u001B[38;5;241m=\u001B[39m \u001B[38;5;28;43mint\u001B[39;49m\u001B[43m(\u001B[49m\u001B[43mparts\u001B[49m\u001B[43m[\u001B[49m\u001B[38;5;241;43m0\u001B[39;49m\u001B[43m]\u001B[49m\u001B[43m)\u001B[49m\n\u001B[0;32m     15\u001B[0m title \u001B[38;5;241m=\u001B[39m \u001B[38;5;124m'\u001B[39m\u001B[38;5;124m-\u001B[39m\u001B[38;5;124m'\u001B[39m\u001B[38;5;241m.\u001B[39mjoin(parts[\u001B[38;5;241m1\u001B[39m:\u001B[38;5;241m-\u001B[39m\u001B[38;5;241m1\u001B[39m])\n\u001B[0;32m     16\u001B[0m num \u001B[38;5;241m=\u001B[39m \u001B[38;5;28mint\u001B[39m(parts[\u001B[38;5;241m-\u001B[39m\u001B[38;5;241m1\u001B[39m]\u001B[38;5;241m.\u001B[39msplit(\u001B[38;5;124m'\u001B[39m\u001B[38;5;124m.\u001B[39m\u001B[38;5;124m'\u001B[39m)[\u001B[38;5;241m0\u001B[39m])\n",
      "\u001B[1;31mValueError\u001B[0m: invalid literal for int() with base 10: 'images\\\\1895'"
     ]
    }
   ],
   "source": [
    "# Template\n",
    "#Your code here\n",
    "def image_year(directory):\n",
    "    '''\n",
    "    input:\n",
    "        directory - directory with images in it\n",
    "    output:\n",
    "        year_dict - dict, dictionary of years and the number of paintings made in that year. \n",
    "    '''\n",
    "    from glob import glob\n",
    "    filenames = glob(f'{directory}/*jpg') #list of file names in the folder\n",
    "    year_dict = {}\n",
    "    for file_name in filenames:\n",
    "        year = parse_image_path(file_name)[0]\n",
    "        year_dict[year] = year_dict.get(year, 0) + 1\n",
    "    return(year_dict)\n",
    "\n",
    "image_year('images')"
   ]
  },
  {
   "cell_type": "markdown",
   "metadata": {
    "pycharm": {
     "name": "#%% md\n"
    }
   },
   "source": [
    "# Question 3: Count the word occurences in Picasso titles\n",
    "\n",
    "Write a function that looks in a directory finds the names of all the jpg images inside it, parses the name of the images, and counts the number of occurences of each word. You should strip out occurrences of `(`, `)`, `'`, and `,` from the words before adding to the dictionary.\n",
    "\n",
    "Store the counts inside a dictionary.\n",
    "\n",
    "    def image_word_frequency(directory):\n",
    "        '''\n",
    "        input:\n",
    "            directory - str, directory that contains the image files\n",
    "        output:\n",
    "            word_dict - dict, {'word' : occurences, ...} - occurence of word in title\n",
    "        '''"
   ]
  },
  {
   "cell_type": "code",
   "execution_count": 8,
   "metadata": {
    "pycharm": {
     "name": "#%%\n"
    }
   },
   "outputs": [
    {
     "ename": "ValueError",
     "evalue": "invalid literal for int() with base 10: 'images\\\\1895'",
     "output_type": "error",
     "traceback": [
      "\u001B[1;31m---------------------------------------------------------------------------\u001B[0m",
      "\u001B[1;31mValueError\u001B[0m                                Traceback (most recent call last)",
      "Input \u001B[1;32mIn [8]\u001B[0m, in \u001B[0;36m<cell line: 35>\u001B[1;34m()\u001B[0m\n\u001B[0;32m     33\u001B[0m     \u001B[38;5;28;01mdel\u001B[39;00m word_dict[\u001B[38;5;124m'\u001B[39m\u001B[38;5;124m'\u001B[39m]\n\u001B[0;32m     34\u001B[0m     \u001B[38;5;28;01mreturn\u001B[39;00m(word_dict)\n\u001B[1;32m---> 35\u001B[0m \u001B[43mimage_word_frequency\u001B[49m\u001B[43m(\u001B[49m\u001B[38;5;124;43m'\u001B[39;49m\u001B[38;5;124;43mimages\u001B[39;49m\u001B[38;5;124;43m'\u001B[39;49m\u001B[43m)\u001B[49m\n",
      "Input \u001B[1;32mIn [8]\u001B[0m, in \u001B[0;36mimage_word_frequency\u001B[1;34m(directory)\u001B[0m\n\u001B[0;32m     13\u001B[0m word_dict \u001B[38;5;241m=\u001B[39m {}\n\u001B[0;32m     14\u001B[0m \u001B[38;5;28;01mfor\u001B[39;00m file_name \u001B[38;5;129;01min\u001B[39;00m filenames:\n\u001B[1;32m---> 15\u001B[0m     words \u001B[38;5;241m=\u001B[39m \u001B[43mparse_image_path\u001B[49m\u001B[43m(\u001B[49m\u001B[43mfile_name\u001B[49m\u001B[43m)\u001B[49m[\u001B[38;5;241m1\u001B[39m]\n\u001B[0;32m     16\u001B[0m     \u001B[38;5;66;03m#         words = words.replace(\"'s\", \"_\")\u001B[39;00m\n\u001B[0;32m     17\u001B[0m     \u001B[38;5;66;03m#         words = re.sub(r'[^\\w\\s]', '', words)\u001B[39;00m\n\u001B[0;32m     18\u001B[0m     words \u001B[38;5;241m=\u001B[39m words\u001B[38;5;241m.\u001B[39mreplace(\u001B[38;5;124m\"\u001B[39m\u001B[38;5;124m'\u001B[39m\u001B[38;5;124m\"\u001B[39m, \u001B[38;5;124m'\u001B[39m\u001B[38;5;124m'\u001B[39m)\n",
      "Input \u001B[1;32mIn [4]\u001B[0m, in \u001B[0;36mparse_image_path\u001B[1;34m(image_filename)\u001B[0m\n\u001B[0;32m     12\u001B[0m parts \u001B[38;5;241m=\u001B[39m image_filename\u001B[38;5;241m.\u001B[39msplit(\u001B[38;5;124m'\u001B[39m\u001B[38;5;124m/\u001B[39m\u001B[38;5;124m'\u001B[39m)[\u001B[38;5;241m-\u001B[39m\u001B[38;5;241m1\u001B[39m]\u001B[38;5;241m.\u001B[39msplit(\u001B[38;5;124m'\u001B[39m\u001B[38;5;124m-\u001B[39m\u001B[38;5;124m'\u001B[39m)\n\u001B[0;32m     13\u001B[0m output \u001B[38;5;241m=\u001B[39m  {}\n\u001B[1;32m---> 14\u001B[0m year \u001B[38;5;241m=\u001B[39m \u001B[38;5;28;43mint\u001B[39;49m\u001B[43m(\u001B[49m\u001B[43mparts\u001B[49m\u001B[43m[\u001B[49m\u001B[38;5;241;43m0\u001B[39;49m\u001B[43m]\u001B[49m\u001B[43m)\u001B[49m\n\u001B[0;32m     15\u001B[0m title \u001B[38;5;241m=\u001B[39m \u001B[38;5;124m'\u001B[39m\u001B[38;5;124m-\u001B[39m\u001B[38;5;124m'\u001B[39m\u001B[38;5;241m.\u001B[39mjoin(parts[\u001B[38;5;241m1\u001B[39m:\u001B[38;5;241m-\u001B[39m\u001B[38;5;241m1\u001B[39m])\n\u001B[0;32m     16\u001B[0m num \u001B[38;5;241m=\u001B[39m \u001B[38;5;28mint\u001B[39m(parts[\u001B[38;5;241m-\u001B[39m\u001B[38;5;241m1\u001B[39m]\u001B[38;5;241m.\u001B[39msplit(\u001B[38;5;124m'\u001B[39m\u001B[38;5;124m.\u001B[39m\u001B[38;5;124m'\u001B[39m)[\u001B[38;5;241m0\u001B[39m])\n",
      "\u001B[1;31mValueError\u001B[0m: invalid literal for int() with base 10: 'images\\\\1895'"
     ]
    }
   ],
   "source": [
    "# Template\n",
    "#Your code here\n",
    "def image_word_frequency(directory):\n",
    "    '''\n",
    "    input:\n",
    "        directory - str, directory that contains the image files\n",
    "    output:\n",
    "        word_dict - dict, {'word' : occurences, ...} - occurence of word in title\n",
    "    '''\n",
    "    import re\n",
    "    from glob import glob\n",
    "    filenames = glob(f'{directory}/*jpg') #list of file names in the folder\n",
    "    word_dict = {}\n",
    "    for file_name in filenames:\n",
    "        words = parse_image_path(file_name)[1]\n",
    "        #         words = words.replace(\"'s\", \"_\")\n",
    "        #         words = re.sub(r'[^\\w\\s]', '', words)\n",
    "        words = words.replace(\"'\", '')\n",
    "        words = words.replace(\"(\", '')\n",
    "        words = words.replace(\")\", '')\n",
    "        words = words.replace(\",\", '')\n",
    "        words = words.replace(\" \", '')\n",
    "        words = words.replace(\".\", '')\n",
    "        for word in words.split('_'):\n",
    "            #             word = re.sub(r'[^\\w\\s]', '', word)\n",
    "            #             word = word.replace(\"'\", '')\n",
    "            #             word = word.replace(\"(\", '')\n",
    "            #             word = word.replace(\")\", '')\n",
    "            #             word = word.replace(\",\", '')\n",
    "            #             word = word.lower()\n",
    "            word_dict[word] = word_dict.get(word, 0) + 1\n",
    "\n",
    "    del word_dict['']\n",
    "    return(word_dict)\n",
    "image_word_frequency('images')"
   ]
  },
  {
   "cell_type": "markdown",
   "metadata": {
    "pycharm": {
     "name": "#%% md\n"
    }
   },
   "source": [
    "# Question 4: Read JSON files\n",
    "\n",
    "There is a file called `divvy_network.json` that contains data about individual Divvy stations. What is the average capacity of bikes across all divvy stations?\n",
    "\n",
    "    def calc_average_station_capacity(filename):\n",
    "        '''\n",
    "        input:\n",
    "            filename - str, name of divvy station file data\n",
    "        output:\n",
    "            average_capacity - float, average capacity across all divvy stations\n",
    "        '''"
   ]
  },
  {
   "cell_type": "code",
   "execution_count": 58,
   "metadata": {
    "pycharm": {
     "name": "#%%\n"
    }
   },
   "outputs": [
    {
     "data": {
      "text/plain": [
       "16.806020066889634"
      ]
     },
     "execution_count": 58,
     "metadata": {},
     "output_type": "execute_result"
    }
   ],
   "source": [
    "# Template\n",
    "#Your code goes here\n",
    "import json\n",
    "\n",
    "def calc_average_station_capacity(filename):\n",
    "    '''\n",
    "    input:\n",
    "        filename - str, name of divvy station file data\n",
    "    output:\n",
    "        average_capacity - float, average capacity across all divvy stations\n",
    "    '''\n",
    "    with open(filename) as f:\n",
    "        data = f.read()\n",
    "    file = json.loads(data)\n",
    "    capacities = []\n",
    "    for station in file['nodes']:\n",
    "        capacities.append(station['capacity'])\n",
    "        \n",
    "    average_capacity = sum(capacities) / len(capacities)\n",
    "    return average_capacity\n",
    "calc_average_station_capacity(\"divvy_network.json\")"
   ]
  },
  {
   "cell_type": "markdown",
   "metadata": {
    "pycharm": {
     "name": "#%% md\n"
    }
   },
   "source": [
    "# Question 5: Write average and standard deviation station capacities to JSON file\n",
    "\n",
    "Calculate the average capacity across stations and the standard deviation in capacity. Store the attributes as a dictionary and write to a JSON file. Your answer JSON should look like (pretty printed here only for visual clarity):\n",
    "\n",
    "```\n",
    "{\n",
    " 'mean': NUMBER,\n",
    " 'std': NUMBER\n",
    "}\n",
    "```\n",
    "\n",
    "Return the filename after writing\n",
    "\n",
    "    def write_station_capacity_attributes(filename, save_filename):\n",
    "        '''\n",
    "        input:\n",
    "            filename: str, divvy file with data\n",
    "            save_filename: str, name of json file to save\n",
    "        return:\n",
    "            save_filename: str, name of json file that you saved data in\n",
    "        '''"
   ]
  },
  {
   "cell_type": "code",
   "execution_count": 59,
   "metadata": {
    "pycharm": {
     "name": "#%%\n"
    }
   },
   "outputs": [
    {
     "data": {
      "text/plain": [
       "'divvy_station_capacity_attributes.json'"
      ]
     },
     "execution_count": 59,
     "metadata": {},
     "output_type": "execute_result"
    }
   ],
   "source": [
    "# Template\n",
    "#Your code goes here\n",
    "def write_station_capacity_attributes(filename, save_filename):\n",
    "    '''\n",
    "    input:\n",
    "        filename: str, divvy file with data\n",
    "        save_filename: str, name of json file to save\n",
    "    return:\n",
    "        save_filename: str, name of json file that you saved data in\n",
    "    '''\n",
    "    return f'{save_filename}'\n",
    "\n",
    "write_station_capacity_attributes('divvy_network.json', 'divvy_station_capacity_attributes.json')"
   ]
  }
 ],
 "metadata": {
  "anaconda-cloud": {},
  "kernelspec": {
   "display_name": "Python 3 [3.6]",
   "language": "python",
   "name": "python3"
  },
  "language_info": {
   "codemirror_mode": {
    "name": "ipython",
    "version": 3
   },
   "file_extension": ".py",
   "mimetype": "text/x-python",
   "name": "python",
   "nbconvert_exporter": "python",
   "pygments_lexer": "ipython3",
   "version": "3.6.4"
  },
  "toc": {
   "base_numbering": 1,
   "nav_menu": {},
   "number_sections": true,
   "sideBar": true,
   "skip_h1_title": false,
   "title_cell": "Table of Contents",
   "title_sidebar": "Contents",
   "toc_cell": false,
   "toc_position": {},
   "toc_section_display": true,
   "toc_window_display": true
  }
 },
 "nbformat": 4,
 "nbformat_minor": 1
}