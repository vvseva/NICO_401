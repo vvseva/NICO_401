{
 "cells": [
  {
   "cell_type": "markdown",
   "metadata": {},
   "source": [
    "# Question 1\n",
    "\n",
    "First, we want to find a way to distinguish email addresses from other strings. For example, 'jeb@jeb.org' is a valid email address, while 'jeb' is not. Your task is to write a function that receives a string and returns True if the string is a valid email address or False if the string is not a valid address.\n",
    "\n",
    "The rules defining valid email addresses are extremely complicated, but they generally consist of a local part and a domain part connected by an '@' symbol. In Hillary Clinton's email address (hdr22@clintonemail.com), `hdr22` is the local part while `clintonemail.com` is the domain. Both the local and domain parts must begin and end with alphanumeric characters, but they may contain both '.' and '-' characters within them. The `.com` part is known as the top-level domain, and this must be present in some form, such as `.com`, `.edu`, `.co.uk`, `.gov`, etc.. See the examples below for further clarification:\n",
    "\n",
    "\n",
    "EXAMPLES:\n",
    "    \n",
    "    email_validation(['jeb@jeb.org'])   =================> should return: True\n",
    "    email_validation(['h.rod17@clinton-email.com']) =====> should return: True\n",
    "    email_validation(['h@d.co.uk'])     =================> should return: True\n",
    "    email_validation(['hotmail.com'])   =================> should return: False\n",
    "    email_validation(['.jeb@.jeb.org']) =================> should return: False\n",
    "    \n",
    "    def email_validation(email_addres):\n",
    "        '''\n",
    "        input:\n",
    "            email_addres : str, prospective email addres\n",
    "        output:\n",
    "            verdict : bool, True or False depending oupon email address fit.\n",
    "        '''"
   ]
  },
  {
   "cell_type": "code",
   "execution_count": 6,
   "metadata": {},
   "outputs": [
    {
     "data": {
      "text/plain": [
       "False"
      ]
     },
     "execution_count": 6,
     "metadata": {},
     "output_type": "execute_result"
    }
   ],
   "source": [
    "# Template\n",
    "# your code here\n",
    "def email_validation(email_addres):\n",
    "    '''\n",
    "    input:\n",
    "        email_addres : str, prospective email addres\n",
    "    output:\n",
    "        verdict : bool, True or False depending oupon email address fit.\n",
    "    '''\n",
    "    import re\n",
    "    if re.match(r'^[a-zA-Z0-9_.+-]+@[a-zA-Z0-9-]+\\.[a-zA-Z0-9-.]+$',email_addres):\n",
    "        verdict = True\n",
    "    else:\n",
    "        verdict = False\n",
    "    return verdict\n",
    "\n",
    "email_validation('.jeb@.jeb.org')"
   ]
  },
  {
   "cell_type": "markdown",
   "metadata": {},
   "source": [
    "# Question 2\n",
    "\n",
    "Comparing the number of unique words in a character's speech is a relatively basic measure to measure the complexity of a character's dialogue. Without paying attention to how many words total are spoken also makes it susceptible to a large imbalance in dialogue. \n",
    "\n",
    "One measure that researchers use to understand the complexity of text is [entropy](https://en.wikipedia.org/wiki/Entropy_%28information_theory%29). Entropy is a measure of how much disorder is in a system. The most 'ordered' text would look something like:\n",
    "\n",
    "the the the the the the the\n",
    "\n",
    "since it is the same word repeated over and over again. It is both highly ordered and uninformative. Given that, the more 'disordered' a character's dialogue is, the more complex the vocabulary is. \n",
    "\n",
    "It is calculated as:\n",
    "\n",
    "$H(X) = -\\sum p(x_i)log( p(x_i) )$\n",
    "\n",
    "Where $x_i$ would be an individual word, $p(x_i)$ is the probability of that word appearing in the text. Since we are calculating this form data, the probability is equal to the frequency.\n",
    "\n",
    "Write a function to calculate the entropy of a character's dialogue.\n",
    "\n",
    "```\n",
    "def calculate_character_dialogue_entropy(play_name, character_name):\n",
    "    '''\n",
    "    input:\n",
    "        play_name: str, the play that you want to analyze\n",
    "        character_name: str, the character that you want analyze the dialogue of\n",
    "    output:\n",
    "        entropy: float\n",
    "    '''\n",
    "```\n",
    "    "
   ]
  },
  {
   "cell_type": "code",
   "execution_count": 4,
   "metadata": {},
   "outputs": [
    {
     "data": {
      "text/plain": [
       "2.170725071494708"
      ]
     },
     "execution_count": 4,
     "metadata": {},
     "output_type": "execute_result"
    }
   ],
   "source": [
    "def calculate_character_dialogue_entropy(play_name, character_name):\n",
    "    '''\n",
    "    input:\n",
    "        play_name: str, the play that you want to analyze\n",
    "        character_name: str, the character that you want analyze the dialogue of\n",
    "    output:\n",
    "        entropy: float\n",
    "    '''\n",
    "    import re\n",
    "    import math\n",
    "    play = open(play_name, 'r')\n",
    "    text = play.read()\n",
    "    play.close()\n",
    "    text = text.replace('\\n    ', ' ')\n",
    "#     print(repr(text))\n",
    "    dialogue = text.split('\\n')\n",
    "    dialogue = [x.strip() for x in dialogue if x.strip().startswith(character_name)]\n",
    "#     dialogue = [x.split(':')[1] for x in dialogue]\n",
    "    dialogue = ' '.join(dialogue)\n",
    "    length = len(dialogue)\n",
    "    freq = {}\n",
    "    for i in dialogue.split(' '):\n",
    "        i = re.sub(r'[^\\w\\s]', '', i)\n",
    "        if i in freq:\n",
    "            freq[i] += 1\n",
    "        else:\n",
    "            freq[i] = 1\n",
    "    entropy = 0\n",
    "    del freq[character_name]\n",
    "    for i in freq:\n",
    "        freq[i] = freq[i]/length\n",
    "        entropy += freq[i]*math.log(freq[i], 2)\n",
    "    return -entropy\n",
    "\n",
    "calculate_character_dialogue_entropy(\"Shakespeare.txt\", 'IMOGEN')"
   ]
  }
 ],
 "metadata": {
  "anaconda-cloud": {},
  "kernelspec": {
   "display_name": "Python 3 [3.6]",
   "language": "python",
   "name": "python3"
  },
  "language_info": {
   "codemirror_mode": {
    "name": "ipython",
    "version": 3
   },
   "file_extension": ".py",
   "mimetype": "text/x-python",
   "name": "python",
   "nbconvert_exporter": "python",
   "pygments_lexer": "ipython3",
   "version": "3.6.4"
  }
 },
 "nbformat": 4,
 "nbformat_minor": 1
}
