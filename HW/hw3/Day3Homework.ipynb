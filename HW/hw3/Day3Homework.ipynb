{
 "cells": [
  {
   "cell_type": "markdown",
   "metadata": {},
   "source": [
    "# Day 3 Homework\n",
    "\n",
    "Today we've covered functions.\n",
    "\n",
    "You will be asked to write functions with a specific name. **If you do not use the name given you will receive a 0 from the autograder**\n",
    "\n",
    "Don't forget to handle errors"
   ]
  },
  {
   "cell_type": "markdown",
   "metadata": {},
   "source": [
    "# Question 1. Functions - Fibonacci number\n",
    "\n",
    "Write a function that gives you a list of Fibonacci numbers. The Fibonacci sequence starts with `0`\n",
    "\n",
    "    def fibonacci(n):\n",
    "        '''\n",
    "        input:\n",
    "            n - int, the number of fibonacci numbers to produce\n",
    "         output:\n",
    "             fib_seq - list, sequence of fibonacci numbers\n",
    "        '''"
   ]
  },
  {
   "cell_type": "code",
   "execution_count": 6,
   "metadata": {},
   "outputs": [
    {
     "name": "stdout",
     "output_type": "stream",
     "text": [
      "None\n",
      "[0]\n",
      "[0, 1]\n",
      "[0, 1, 1]\n",
      "[0, 1, 1, 2]\n",
      "[0, 1, 1, 2, 3]\n",
      "[0, 1, 1, 2, 3, 5]\n",
      "[0, 1, 1, 2, 3, 5, 8]\n",
      "[0, 1, 1, 2, 3, 5, 8, 13]\n",
      "[0, 1, 1, 2, 3, 5, 8, 13, 21]\n",
      "[0, 1, 1, 2, 3, 5, 8, 13, 21, 34]\n",
      "[0, 1, 1, 2, 3, 5, 8, 13, 21, 34, 55]\n",
      "[0, 1, 1, 2, 3, 5, 8, 13, 21, 34, 55, 89]\n",
      "[0, 1, 1, 2, 3, 5, 8, 13, 21, 34, 55, 89, 144]\n",
      "[0, 1, 1, 2, 3, 5, 8, 13, 21, 34, 55, 89, 144, 233]\n",
      "[0, 1, 1, 2, 3, 5, 8, 13, 21, 34, 55, 89, 144, 233, 377]\n",
      "[0, 1, 1, 2, 3, 5, 8, 13, 21, 34, 55, 89, 144, 233, 377, 610]\n",
      "[0, 1, 1, 2, 3, 5, 8, 13, 21, 34, 55, 89, 144, 233, 377, 610, 987]\n",
      "[0, 1, 1, 2, 3, 5, 8, 13, 21, 34, 55, 89, 144, 233, 377, 610, 987, 1597]\n",
      "[0, 1, 1, 2, 3, 5, 8, 13, 21, 34, 55, 89, 144, 233, 377, 610, 987, 1597, 2584]\n"
     ]
    }
   ],
   "source": [
    "# Template\n",
    "#Use this cell to write and test your function\n",
    "def fibonacci(n):\n",
    "    '''\n",
    "    input:\n",
    "        n - int, the number of fibonacci numbers to produce\n",
    "     output:\n",
    "         fib_seq - list, sequence of fibonacci numbers\n",
    "    '''\n",
    "    if n < 1:\n",
    "        fib_seq = None\n",
    "    elif n == 1:\n",
    "        fib_seq = [0]\n",
    "#         return fib_seq\n",
    "    elif n == 2:\n",
    "        fib_seq = [0, 1]\n",
    "#         return fib_seq\n",
    "    else:\n",
    "        fib_seq = [0, 1]\n",
    "        for i in range(n-2):\n",
    "            number_1 = fib_seq[-2]\n",
    "            number_2 = fib_seq[-1]\n",
    "            number_2 = number_1 + number_2\n",
    "            fib_seq.append(number_2)\n",
    "            \n",
    "    return fib_seq\n",
    "\n",
    "fibonacci(n = 0)\n",
    "\n",
    "fibonacci(n = 1)\n",
    "\n",
    "\n",
    "fibonacci(n = -2)\n",
    "\n",
    "fibonacci(n = 3)\n",
    "\n",
    "fibonacci(n = 30)\n",
    "\n",
    "\n",
    "for i in range(20):\n",
    "    print(fibonacci(n = i))"
   ]
  },
  {
   "cell_type": "markdown",
   "metadata": {},
   "source": [
    "# Question 2. Functions - Find digits\n",
    "Find the number of digits in an integer. \n",
    "\n",
    "    def number_of_digits(n):\n",
    "        '''\n",
    "        input:\n",
    "            n - number\n",
    "        output:\n",
    "            num_digits - int, nubmer of digits in number\n",
    "        '''"
   ]
  },
  {
   "cell_type": "code",
   "execution_count": 66,
   "metadata": {},
   "outputs": [
    {
     "data": {
      "text/plain": [
       "5"
      ]
     },
     "execution_count": 66,
     "metadata": {},
     "output_type": "execute_result"
    }
   ],
   "source": [
    "# Template\n",
    "#Your code here\n",
    "def number_of_digits(n):\n",
    "    '''\n",
    "    input:\n",
    "        n - number\n",
    "    output:\n",
    "        num_digits - int, nubmer of digits in number\n",
    "    '''\n",
    "    number = str(n)\n",
    "    if number.find('.') != -1 or number.find('-') != -1 :\n",
    "        num_digits = len(number)-1\n",
    "    else:\n",
    "        num_digits = len(number)\n",
    "    return num_digits\n",
    "    \n",
    "number_of_digits(-10.01)    "
   ]
  },
  {
   "cell_type": "markdown",
   "metadata": {},
   "source": [
    "# Question 3. Functions - Area of a triangle\n",
    "Find the area of a triangle. \n",
    "\n",
    "Area of triangle: \n",
    "\n",
    "$\n",
    "Area = \\sqrt{(s \\times (s-a) \\times (s-b) \\times (s-c))} = (s \\times (s-a) \\times (s-b) \\times (s-c))^{0.5} \\\\\n",
    "s = \\frac{(a+b+c)}{2}\n",
    "$\n",
    "\n",
    "    def area_of_triangle(a, b, c):\n",
    "        '''\n",
    "        input:\n",
    "            a - numeric, measurement of side 1\n",
    "            b - numeric measurement of side 2\n",
    "            c - numeric, measurement of side 3\n",
    "         output:\n",
    "            area - numeric\n",
    "        '''"
   ]
  },
  {
   "cell_type": "code",
   "execution_count": 78,
   "metadata": {},
   "outputs": [
    {
     "data": {
      "text/plain": [
       "0.4330127018922193"
      ]
     },
     "execution_count": 78,
     "metadata": {},
     "output_type": "execute_result"
    }
   ],
   "source": [
    "#Your code here\n",
    "def area_of_triangle(a, b, c):\n",
    "    '''\n",
    "    input:\n",
    "        a - numeric, measurement of side 1\n",
    "        b - numeric measurement of side 2\n",
    "        c - numeric, measurement of side 3\n",
    "     output:\n",
    "        area - numeric\n",
    "    '''\n",
    "    S = (a + b + c)/2\n",
    "    area = ((S*(S-a)*(S-b)*(S-c)))**0.5\n",
    "    return area\n",
    "\n",
    "area_of_triangle(1, 1, 1)"
   ]
  },
  {
   "cell_type": "markdown",
   "metadata": {},
   "source": [
    "# Question 4. Functions - Process all roster files\n",
    "\n",
    "Write a function that will process all of the roster text files in the directory and find the tallest person.\n",
    "\n",
    "You should return the person's name.\n",
    "\n",
    "Remember to use some built-in standard library functions to make this easier.\n",
    "\n",
    "    def process_roster_files(folder):\n",
    "        '''\n",
    "        input:\n",
    "            folder - str, location of folder with rosters\n",
    "        output:\n",
    "            name - str, name of tallest person\n",
    "        '''"
   ]
  },
  {
   "cell_type": "code",
   "execution_count": 93,
   "metadata": {
    "collapsed": true
   },
   "outputs": [],
   "source": [
    "# Template\n",
    "#your code here\n",
    "def process_roster_files(folder):\n",
    "    '''\n",
    "    input:\n",
    "        folder - str, location of folder with rosters\n",
    "    output:\n",
    "        name - str, name of tallest person\n",
    "    '''\n",
    "    from glob import glob\n",
    "    filenames = glob(f'{folder}/*txt') #list of file names in the folder\n",
    "    name = None \n",
    "    max_height = 0\n",
    "    for file_name in filenames:\n",
    "        with open(file_name, 'r') as f:\n",
    "            for line in f:\n",
    "                if line.startswith('Name'):\n",
    "                    temp_name = line.split(':')[1].strip()\n",
    "                if line.startswith('Height'):\n",
    "                    height = int(line.split(':')[1].strip()[0])\n",
    "                    if height > max_height:\n",
    "                        max_height = height\n",
    "                        name = temp_name\n",
    "    return name"
   ]
  },
  {
   "cell_type": "code",
   "execution_count": 94,
   "metadata": {},
   "outputs": [
    {
     "data": {
      "text/plain": [
       "'Agatha A. Bailey'"
      ]
     },
     "execution_count": 94,
     "metadata": {},
     "output_type": "execute_result"
    }
   ],
   "source": [
    "process_roster_files('rosters')"
   ]
  }
 ],
 "metadata": {
  "anaconda-cloud": {},
  "kernelspec": {
   "display_name": "Python 3 [3.6]",
   "language": "python",
   "name": "python3"
  },
  "language_info": {
   "codemirror_mode": {
    "name": "ipython",
    "version": 3
   },
   "file_extension": ".py",
   "mimetype": "text/x-python",
   "name": "python",
   "nbconvert_exporter": "python",
   "pygments_lexer": "ipython3",
   "version": "3.6.4"
  },
  "toc": {
   "base_numbering": 1,
   "nav_menu": {},
   "number_sections": true,
   "sideBar": true,
   "skip_h1_title": false,
   "title_cell": "Table of Contents",
   "title_sidebar": "Contents",
   "toc_cell": false,
   "toc_position": {},
   "toc_section_display": true,
   "toc_window_display": true
  }
 },
 "nbformat": 4,
 "nbformat_minor": 1
}
