{
 "cells": [
  {
   "cell_type": "markdown",
   "source": [
    "# Congrats on completing your first day of Python bootcamp!\n",
    "\n",
    "You are now well on your way to becoming a master at programing.\n",
    "Here are some problems that you can show off your new skills with.\n",
    "\n",
    "# Instructions to complete your homework\n",
    "\n",
    "In order to test your homework solutions automatically, we are going to ask you to insert the code you write into a function. To this end, we are creating for each question a template that looks something like this:\n",
    "\n",
    "    def function(parameter1, parameter2):\n",
    "        \"\"\"\n",
    "        Instructions for what your function will accomplish:\n",
    "            Write code that takes two numbers and subtracts the second from the first\n",
    "\n",
    "        Definition of the properties of the parameters to be accepted by the function:\n",
    "            Parameters:\n",
    "            -----------\n",
    "            parameter1 : (int)\n",
    "            parameter2 : (int)\n",
    "\n",
    "        Name and type of the answer to be return:\n",
    "            Return:\n",
    "            -------\n",
    "            answer : (int)\n",
    "        \"\"\"\n",
    "\n",
    "        #start writing your code below\n",
    "\n",
    "\n",
    "        return answer\n",
    "\n",
    "The easiest way to develop and test your code is to use the following structure:\n",
    "\n",
    "`Initialize parameters`\n",
    "\n",
    "`Code to be copied`\n",
    "\n",
    "`Printout of output`\n",
    "\n",
    "For the case above that would result in:\n",
    "\n",
    "    # Initialize parameters\n",
    "    parameter1 = 3    # Note that we asked for the inputs to be integers\n",
    "    parameter2 = 5\n",
    "\n",
    "    # Code to be copied to solution\n",
    "    answer = parameter1 - parameter2\n",
    "\n",
    "    #Printout of output\n",
    "    print(answer)\n",
    "\n",
    "If your code is correct and you feel confident that you have tested enough (meaning for many inputs). Then you can copy the lines of code under `Code to be copied to solution` to the cell where the function is defined under the comment `start writing your code below`.\n",
    "\n",
    "You can then execute the notebook cell with the function.  After that, you can simply call the function with whatever parameter values you wish. For example,\n",
    "\n",
    "    function(3, 5)"
   ],
   "metadata": {
    "collapsed": false,
    "pycharm": {
     "name": "#%% md\n"
    }
   }
  },
  {
   "cell_type": "markdown",
   "source": [
    "# Question 1\n",
    "You should write code to print the sum of two numbers. However, you might not always be given two numbers!\n",
    "Write code that will take two inputs and add them together if they are both numbers."
   ],
   "metadata": {
    "collapsed": false,
    "pycharm": {
     "name": "#%% md\n"
    }
   }
  },
  {
   "cell_type": "code",
   "execution_count": 1,
   "outputs": [],
   "source": [
    "# Template\n",
    "def add_two_numbers(number1, number2):\n",
    "    '''\n",
    "    Write code that will take two numbers and add them together.\n",
    "\n",
    "    Parameters:\n",
    "    -----------\n",
    "    number1 : (int, float)\n",
    "    number2 : (int, float)\n",
    "    Watch out, these may not be numbers!\n",
    "\n",
    "    Return:\n",
    "    -------\n",
    "    twonumsum : (int, float)\n",
    "        The sum of number1 and number2.\n",
    "        If either number1 or number2 are not a number return `None`\n",
    "    '''\n",
    "\n",
    "    # start writing your code below\n",
    "    try:\n",
    "        twonumsum = number1 + number2\n",
    "        return twonumsum\n",
    "    except:\n",
    "        return None"
   ],
   "metadata": {
    "collapsed": false,
    "pycharm": {
     "name": "#%%\n"
    }
   }
  },
  {
   "cell_type": "code",
   "execution_count": 2,
   "outputs": [
    {
     "data": {
      "text/plain": "8"
     },
     "execution_count": 2,
     "metadata": {},
     "output_type": "execute_result"
    }
   ],
   "source": [
    "# Template\n",
    "add_two_numbers(2, 6)"
   ],
   "metadata": {
    "collapsed": false,
    "pycharm": {
     "name": "#%%\n"
    }
   }
  },
  {
   "cell_type": "code",
   "execution_count": 3,
   "outputs": [
    {
     "data": {
      "text/plain": "9.0"
     },
     "execution_count": 3,
     "metadata": {},
     "output_type": "execute_result"
    }
   ],
   "source": [
    "# Template\n",
    "add_two_numbers(2.5, 6.5)"
   ],
   "metadata": {
    "collapsed": false,
    "pycharm": {
     "name": "#%%\n"
    }
   }
  },
  {
   "cell_type": "code",
   "execution_count": 4,
   "outputs": [],
   "source": [
    "# Template\n",
    "add_two_numbers('cat', 6.5)"
   ],
   "metadata": {
    "collapsed": false,
    "pycharm": {
     "name": "#%%\n"
    }
   }
  },
  {
   "cell_type": "code",
   "execution_count": 5,
   "outputs": [],
   "source": [
    "# Template\n",
    "add_two_numbers(2, 'kitten')"
   ],
   "metadata": {
    "collapsed": false,
    "pycharm": {
     "name": "#%%\n"
    }
   }
  },
  {
   "cell_type": "code",
   "execution_count": 6,
   "outputs": [
    {
     "data": {
      "text/plain": "1.3333333333333333"
     },
     "execution_count": 6,
     "metadata": {},
     "output_type": "execute_result"
    }
   ],
   "source": [
    "# Template\n",
    "#Add more tests here\n",
    "add_two_numbers(2/2, 1/3)"
   ],
   "metadata": {
    "collapsed": false,
    "pycharm": {
     "name": "#%%\n"
    }
   }
  },
  {
   "cell_type": "markdown",
   "source": [
    "# Question 2\n",
    "\n",
    "You should write code that will take every third character from a word and capitalize it. So a word like:\n",
    "\n",
    "'potatoes'\n",
    "\n",
    "\n",
    " will become\n",
    "\n",
    " 'poTatOes'"
   ],
   "metadata": {
    "collapsed": false,
    "pycharm": {
     "name": "#%% md\n"
    }
   }
  },
  {
   "cell_type": "code",
   "execution_count": 7,
   "outputs": [],
   "source": [
    "# Template\n",
    "def third_letter_capitalize(word, word_length):\n",
    "    '''\n",
    "    Write code that will capitalize the third character (letter, number, punctuation and so on) in a given word\n",
    "\n",
    "    Parameters:\n",
    "    -----------\n",
    "    word: string\n",
    "    word_length: integer\n",
    "\n",
    "    Return:\n",
    "    --------\n",
    "    new_word : string\n",
    "    '''\n",
    "    #Fill in your own code\n",
    "    new_word = ''\n",
    "    for i in range(word_length):\n",
    "        if (i+1) % 3 == 0:\n",
    "            letter = word[i].upper()\n",
    "        else:\n",
    "            letter = word[i]\n",
    "        new_word += letter\n",
    "        i += 1\n",
    "\n",
    "    return new_word"
   ],
   "metadata": {
    "collapsed": false,
    "pycharm": {
     "name": "#%%\n"
    }
   }
  },
  {
   "cell_type": "code",
   "execution_count": 8,
   "outputs": [
    {
     "data": {
      "text/plain": "'frAgrAnt'"
     },
     "execution_count": 8,
     "metadata": {},
     "output_type": "execute_result"
    }
   ],
   "source": [
    "# Template\n",
    "third_letter_capitalize('fragrant', 8)"
   ],
   "metadata": {
    "collapsed": false,
    "pycharm": {
     "name": "#%%\n"
    }
   }
  },
  {
   "cell_type": "code",
   "execution_count": 9,
   "outputs": [
    {
     "data": {
      "text/plain": "'haTefUl EigHt'"
     },
     "execution_count": 9,
     "metadata": {},
     "output_type": "execute_result"
    }
   ],
   "source": [
    "# Template\n",
    "third_letter_capitalize('hateful eight', 13)"
   ],
   "metadata": {
    "collapsed": false,
    "pycharm": {
     "name": "#%%\n"
    }
   }
  },
  {
   "cell_type": "code",
   "execution_count": 10,
   "outputs": [
    {
     "data": {
      "text/plain": "'ha2lm3'"
     },
     "execution_count": 10,
     "metadata": {},
     "output_type": "execute_result"
    }
   ],
   "source": [
    "# Template\n",
    "third_letter_capitalize('ha2lm3', 6)"
   ],
   "metadata": {
    "collapsed": false,
    "pycharm": {
     "name": "#%%\n"
    }
   }
  },
  {
   "cell_type": "markdown",
   "source": [
    "# Question 3\n",
    "\n",
    "I want you to write code that will scan through a word and determine if it has the substring 'cat' inside of it.\n",
    "\n",
    "If it does, I want you to return `True`\n",
    "\n",
    "If it does not, I want you to return `False`"
   ],
   "metadata": {
    "collapsed": false,
    "pycharm": {
     "name": "#%% md\n"
    }
   }
  },
  {
   "cell_type": "code",
   "execution_count": 11,
   "outputs": [],
   "source": [
    "# Template\n",
    "def find_cat_in_word(word, word_length):\n",
    "    '''\n",
    "    Write code that will scan through a word and determine if it has the substring 'cat' inside of it.\n",
    "    If it does, return True, else return False\n",
    "\n",
    "    Parameters:\n",
    "    -----------\n",
    "    word: string\n",
    "    word_length: integer\n",
    "\n",
    "    Return:\n",
    "    -------\n",
    "    found_cat: boolean\n",
    "    '''\n",
    "    #Fill in your own code\n",
    "    if word.find(\"cat\") == -1:\n",
    "        found_cat = False\n",
    "    else:\n",
    "        found_cat = True\n",
    "\n",
    "    return found_cat"
   ],
   "metadata": {
    "collapsed": false,
    "pycharm": {
     "name": "#%%\n"
    }
   }
  },
  {
   "cell_type": "code",
   "execution_count": 12,
   "outputs": [
    {
     "data": {
      "text/plain": "True"
     },
     "execution_count": 12,
     "metadata": {},
     "output_type": "execute_result"
    }
   ],
   "source": [
    "# Template\n",
    "find_cat_in_word('concatenate', 11)"
   ],
   "metadata": {
    "collapsed": false,
    "pycharm": {
     "name": "#%%\n"
    }
   }
  },
  {
   "cell_type": "code",
   "execution_count": 13,
   "outputs": [
    {
     "data": {
      "text/plain": "False"
     },
     "execution_count": 13,
     "metadata": {},
     "output_type": "execute_result"
    }
   ],
   "source": [
    "# Template\n",
    "find_cat_in_word('stapler', 7)"
   ],
   "metadata": {
    "collapsed": false,
    "pycharm": {
     "name": "#%%\n"
    }
   }
  },
  {
   "cell_type": "code",
   "execution_count": 14,
   "outputs": [
    {
     "data": {
      "text/plain": "False"
     },
     "execution_count": 14,
     "metadata": {},
     "output_type": "execute_result"
    }
   ],
   "source": [
    "# Template\n",
    "find_cat_in_word('to', 2)"
   ],
   "metadata": {
    "collapsed": false,
    "pycharm": {
     "name": "#%%\n"
    }
   }
  },
  {
   "cell_type": "markdown",
   "source": [
    "# Question 4\n",
    "\n",
    "I want you to write a simple code to create pig-latin words. The rules of pig-latin that we will use are as follows:\n",
    "\n",
    "For words that begin with a consonant, the first letter is moved to the end of the word. Then, \"ay\"  is added, as in the following examples:\n",
    "\n",
    "\"pig\" → \"igpay\"\n",
    "\"banana\" → \"ananabay\"\n",
    "\"trash\" → \"rashtay\"\n",
    "\"happy\" → \"appyhay\"\n",
    "\"duck\" → \"uckday\"\n",
    "\"shove\" → \"hovesay\"\n",
    "\n",
    "For words that begin with vowel (a,e,i,o,u) sounds, one just adds \"yay\" to the end. Examples are:\n",
    "\n",
    "\"eat\" → \"eatyay\"\n",
    "\"omelet\" → \"omeletyay\"\n",
    "\"are\" → \"areyay\"\n",
    "\n",
    "If a word has a punctuation mark at the end it should be removed (pig latin doesn't know what to do with punctuation!)"
   ],
   "metadata": {
    "collapsed": false,
    "pycharm": {
     "name": "#%% md\n"
    }
   }
  },
  {
   "cell_type": "code",
   "execution_count": 15,
   "outputs": [],
   "source": [
    "import string"
   ],
   "metadata": {
    "collapsed": false,
    "pycharm": {
     "name": "#%%\n"
    }
   }
  },
  {
   "cell_type": "code",
   "execution_count": 16,
   "outputs": [],
   "source": [
    "# Template\n",
    "def pig_latin(word):\n",
    "    '''\n",
    "    Write code that will take a word and translate it to pig latin.\n",
    "\n",
    "    Parameters:\n",
    "    -----------\n",
    "    word: string\n",
    "\n",
    "    Return:\n",
    "    -------\n",
    "    translated: string\n",
    "    '''\n",
    "    #Fill in your own code\n",
    "    if word[-1] in ['.', ',', '!']:\n",
    "        word = word[:-1]\n",
    "\n",
    "    if word[0] in ['q', 'w', 'r', 't', 'p', 's', 'd', 'f', 'g', 'h', 'j', 'k', 'l', 'z', 'x', 'c', 'v', 'b', 'n', 'm']:\n",
    "        translated = word[1:]+word[0]+'ay'\n",
    "    else:\n",
    "        translated = word + 'yay'\n",
    "\n",
    "    return translated"
   ],
   "metadata": {
    "collapsed": false,
    "pycharm": {
     "name": "#%%\n"
    }
   }
  },
  {
   "cell_type": "code",
   "execution_count": 17,
   "outputs": [
    {
     "data": {
      "text/plain": "'artypay'"
     },
     "execution_count": 17,
     "metadata": {},
     "output_type": "execute_result"
    }
   ],
   "source": [
    "# Template Points 1\n",
    "pig_latin('party')"
   ],
   "metadata": {
    "collapsed": false,
    "pycharm": {
     "name": "#%%\n"
    }
   }
  },
  {
   "cell_type": "code",
   "execution_count": 18,
   "outputs": [
    {
     "data": {
      "text/plain": "'peakerssay'"
     },
     "execution_count": 18,
     "metadata": {},
     "output_type": "execute_result"
    }
   ],
   "source": [
    "# Template Points 1\n",
    "pig_latin('speakers.')"
   ],
   "metadata": {
    "collapsed": false,
    "pycharm": {
     "name": "#%%\n"
    }
   }
  },
  {
   "cell_type": "code",
   "execution_count": 19,
   "outputs": [
    {
     "data": {
      "text/plain": "'eatyay'"
     },
     "execution_count": 19,
     "metadata": {},
     "output_type": "execute_result"
    }
   ],
   "source": [
    "# Template Points 1\n",
    "pig_latin('eat')"
   ],
   "metadata": {
    "collapsed": false,
    "pycharm": {
     "name": "#%%\n"
    }
   }
  }
 ],
 "metadata": {
  "kernelspec": {
   "display_name": "Python 3",
   "language": "python",
   "name": "python3"
  },
  "language_info": {
   "codemirror_mode": {
    "name": "ipython",
    "version": 2
   },
   "file_extension": ".py",
   "mimetype": "text/x-python",
   "name": "python",
   "nbconvert_exporter": "python",
   "pygments_lexer": "ipython2",
   "version": "2.7.6"
  }
 },
 "nbformat": 4,
 "nbformat_minor": 0
}